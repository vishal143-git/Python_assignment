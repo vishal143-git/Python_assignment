{
 "cells": [
  {
   "cell_type": "raw",
   "id": "b66013db-5823-42d0-90d5-228a4dd123e4",
   "metadata": {},
   "source": [
    "# Question 1 : Explain the key features of python that makes it a popular choice for programming ?\n",
    "ANSWER: a) Readability and Simplicity: Python's syntax is designed to be clean, concise, and easy to read.\n",
    "        b)Versatility: Python is a versatile language that can be used for a wide range of applications, including web development, data analysis\n",
    "           and machine learning\n",
    "        c) Interpreted Language: Python is an interpreted language, meaning code is executed line by line without requiring compilation.\n",
    "        d) Lot of Libraries: python consit of 1,37,000 libraries ."
   ]
  },
  {
   "cell_type": "raw",
   "id": "9efecb27-87df-41fe-a5b5-bbf5749b5271",
   "metadata": {},
   "source": [
    "# Question 2 : Describe the Role of Predefined keywords in python and provide example of how they are used in a program?\n",
    "    Answer: Predefined keywords in Python are reserved words that have specific meanings within the language. They are used to define the structure and control flow of a Python program.\n",
    "\n",
    "        "
   ]
  },
  {
   "cell_type": "code",
   "execution_count": 3,
   "id": "c911f7f9-e7b4-43d3-aa18-5c52608a5e61",
   "metadata": {},
   "outputs": [
    {
     "name": "stdout",
     "output_type": "stream",
     "text": [
      "You are an adult.\n"
     ]
    }
   ],
   "source": [
    "# Example 1: if, elif, else: These keywords are used to implement conditional statements, allowing the program to execute different code blocks based on specific conditions.\n",
    "age = 25\n",
    "if age >= 18:\n",
    "    print(\"You are an adult.\")\n",
    "elif age >= 13:\n",
    "    print(\"You are a teenager.\")\n",
    "else:\n",
    "    print(\"You are a child.\")"
   ]
  },
  {
   "cell_type": "code",
   "execution_count": 4,
   "id": "8f3fd0af-1ee8-4c1c-9586-5bca3f1f50cc",
   "metadata": {},
   "outputs": [
    {
     "name": "stdout",
     "output_type": "stream",
     "text": [
      "Count: 0\n",
      "Count: 1\n",
      "Count: 2\n",
      "Count: 3\n",
      "Count: 4\n"
     ]
    }
   ],
   "source": [
    "# Example 2 : while: This keyword is used to create loops that continue to execute as long as a specified condition is true.\n",
    "count = 0\n",
    "while count < 5:\n",
    "    print(\"Count:\", count)\n",
    "    count += 1"
   ]
  },
  {
   "cell_type": "raw",
   "id": "b8524a9d-f5f8-41eb-a0ac-1a994d94cae0",
   "metadata": {},
   "source": [
    "Question 3 : Compare and Contrast mutable and immutable objects in python with examples.\n",
    "    Answer : In Python, objects can be classified into two categories: mutable and immutable. The key difference between them lies in their ability to be modified after creation.\n",
    "Mutable Objects : Mutable objects can be changed after they are created. This means that the values stored within these objects can be modified. "
   ]
  },
  {
   "cell_type": "code",
   "execution_count": 5,
   "id": "73c50b6f-5541-4c91-adaa-9a51e2cc98e1",
   "metadata": {},
   "outputs": [
    {
     "name": "stdout",
     "output_type": "stream",
     "text": [
      "[1, 2, 3, 4]\n"
     ]
    }
   ],
   "source": [
    "# Lists:\n",
    "my_list = [1, 2, 3]\n",
    "my_list.append(4)  # Modifies the list\n",
    "print(my_list)"
   ]
  },
  {
   "cell_type": "code",
   "execution_count": 6,
   "id": "929f69b1-3a85-47fb-a0fe-315e753e296d",
   "metadata": {},
   "outputs": [
    {
     "name": "stdout",
     "output_type": "stream",
     "text": [
      "{'name': 'Vishal', 'age': 31}\n"
     ]
    }
   ],
   "source": [
    "# Dictionaries:\n",
    "my_dict = {\"name\": \"Vishal\", \"age\": 27}\n",
    "my_dict[\"age\"] = 31  # Modifies the dictionary\n",
    "print(my_dict)"
   ]
  },
  {
   "cell_type": "raw",
   "id": "3ab5a851-1d04-4e35-b112-d20dd21bba8d",
   "metadata": {},
   "source": [
    "# Immutable Objects : Immutable objects cannot be changed after they are created. If you want to modify an immutable object, you must create a new object with the desired changes. "
   ]
  },
  {
   "cell_type": "code",
   "execution_count": 9,
   "id": "5e4c351a-ea1e-4eae-adc8-c6b8647a8ea2",
   "metadata": {},
   "outputs": [
    {
     "name": "stdout",
     "output_type": "stream",
     "text": [
      "10\n"
     ]
    }
   ],
   "source": [
    "# Numbers (int, float, complex):\n",
    "x = 5\n",
    "x = 10  # Creates a new object with the value 10\n",
    "print(x) "
   ]
  },
  {
   "cell_type": "code",
   "execution_count": 10,
   "id": "efdfe215-464f-435b-bfb7-590b5aa37252",
   "metadata": {},
   "outputs": [
    {
     "name": "stdout",
     "output_type": "stream",
     "text": [
      "World\n"
     ]
    }
   ],
   "source": [
    "#Strings :\n",
    "my_string = \"Hello\"\n",
    "my_string = \"World\"  # Creates a new object with the value \"World\"\n",
    "print(my_string)"
   ]
  },
  {
   "cell_type": "raw",
   "id": "131906c3-6c58-4f0c-980a-86dae7488b76",
   "metadata": {},
   "source": [
    "QUESTION 4 : Discuss the different types of operator in python and provide examples how they are used?\n",
    "    Answer : Operators in Python are symbols that perform specific operations on operands (values or variables). They are essential for building expressions and controlling the flow of your program.\n"
   ]
  },
  {
   "cell_type": "raw",
   "id": "718b2459-4de7-421f-9666-ac13fa10a918",
   "metadata": {},
   "source": [
    "# Example : Arithmetic Operators \n",
    "#+: Addition\n",
    "-: Subtraction\n",
    "*: Multiplication\n",
    "/: Division\n",
    "%: Modulus (remainder)\n",
    "//: Floor division (integer division)\n",
    "**: Exponentiation\n"
   ]
  },
  {
   "cell_type": "code",
   "execution_count": 14,
   "id": "5af458c9-9270-47f8-b8d1-a0cd21ebbedc",
   "metadata": {},
   "outputs": [
    {
     "name": "stdout",
     "output_type": "stream",
     "text": [
      "15\n",
      "5\n"
     ]
    }
   ],
   "source": [
    "a = 10\n",
    "b = 5\n",
    "\n",
    "result = a + b  # Addition\n",
    "print(result) \n",
    "result = a - b  \n",
    "print(result) "
   ]
  },
  {
   "cell_type": "raw",
   "id": "5b738a49-42e5-4235-8cca-dce418da89b1",
   "metadata": {},
   "source": [
    "#Comparison Operators :\n",
    "==: Equal to\n",
    "!=: Not equal to\n",
    ">: Greater than\n",
    "<: Less than\n",
    ">=: Greater than or equal to\n",
    "<=: Less than or equal to"
   ]
  },
  {
   "cell_type": "code",
   "execution_count": 15,
   "id": "1980c30d-fbe4-4191-ab36-4db309d9ea3c",
   "metadata": {},
   "outputs": [
    {
     "name": "stdout",
     "output_type": "stream",
     "text": [
      "x is not equal to y\n"
     ]
    }
   ],
   "source": [
    "x = 10\n",
    "y = 5\n",
    "\n",
    "if x == y:\n",
    "    print(\"x is equal to y\")\n",
    "else:\n",
    "    print(\"x is not equal to y\")"
   ]
  },
  {
   "cell_type": "raw",
   "id": "0b4571b9-3eff-4b9b-9391-299cb5d0e676",
   "metadata": {},
   "source": [
    "# Logical Operators:\n",
    "and: Logical AND\n",
    "or: Logical OR\n",
    "not: Logical NOT"
   ]
  },
  {
   "cell_type": "code",
   "execution_count": 16,
   "id": "d91405a6-0300-4e38-a54d-9c32610c0ec8",
   "metadata": {},
   "outputs": [
    {
     "name": "stdout",
     "output_type": "stream",
     "text": [
      "Eligible for student discount\n"
     ]
    }
   ],
   "source": [
    "age = 25\n",
    "is_student = True\n",
    "\n",
    "if age >= 18 and is_student:\n",
    "    print(\"Eligible for student discount\")"
   ]
  },
  {
   "cell_type": "raw",
   "id": "f12bd24d-1756-4114-b938-3cad7a6983f5",
   "metadata": {},
   "source": [
    "# Question 5 : Explain the concept of type casting in Python with examples\n",
    "        ANSWER :Type casting, also known as type conversion, is the process of converting one data type to another in Python. This is often necessary when you need to perform operations that require specific data types or when you want to display values in a particular format."
   ]
  },
  {
   "cell_type": "code",
   "execution_count": 20,
   "id": "adadf169-91b3-43ca-a7d2-350c768d09f7",
   "metadata": {},
   "outputs": [
    {
     "name": "stdout",
     "output_type": "stream",
     "text": [
      "5.0\n",
      "3\n",
      "1\n",
      "0.0\n"
     ]
    }
   ],
   "source": [
    "# Integer to Float:\n",
    "x = 5\n",
    "y = float(x)\n",
    "print(y)\n",
    "\n",
    "#Float to Integer:\n",
    "x = 3.14\n",
    "y = int(x)\n",
    "print(y)\n",
    "\n",
    "#Boolean to Integer or Float:\n",
    "x = True\n",
    "y = False\n",
    "z = int(x)\n",
    "w = float(y)\n",
    "print(z)  \n",
    "print(w)"
   ]
  },
  {
   "cell_type": "raw",
   "id": "fbfccb96-e542-45bc-990e-95a2e19f9ce4",
   "metadata": {},
   "source": [
    "QUESTION 6 : How do conditional statement work in Python? Illustrate with example.\n",
    "        Answer: Conditional statements in Python are used to execute different code blocks based on specific conditions."
   ]
  },
  {
   "cell_type": "code",
   "execution_count": 22,
   "id": "c537b918-22a9-4030-8232-4e064ead309b",
   "metadata": {},
   "outputs": [
    {
     "name": "stdout",
     "output_type": "stream",
     "text": [
      "Excellent\n"
     ]
    }
   ],
   "source": [
    "#EXAMPLE :\n",
    "grade = 90\n",
    "if grade >= 90:\n",
    "    print(\"Excellent\")\n",
    "elif grade >= 80:\n",
    "    print(\"Good\")\n",
    "elif grade >= 70:\n",
    "    print(\"Average\")\n",
    "else:\n",
    "    print(\"Below average\")"
   ]
  },
  {
   "cell_type": "raw",
   "id": "4ddae51d-5689-4296-aa96-d6076e79f355",
   "metadata": {},
   "source": [
    " Question 7: Describe the different types of loops in Python and their use cases with examples.\n",
    "        Answer: Loops are programming constructs that allow you to repeatedly execute a block of code until a certain condition is met. Python provides two main types of loops: for loops and while loops."
   ]
  },
  {
   "cell_type": "code",
   "execution_count": 25,
   "id": "e9039f2c-b5fe-4955-8f11-c188b1a86604",
   "metadata": {},
   "outputs": [
    {
     "name": "stdout",
     "output_type": "stream",
     "text": [
      "apple\n",
      "banana\n",
      "orange\n",
      "Count: 0\n",
      "Count: 1\n",
      "Count: 2\n",
      "Count: 3\n",
      "Count: 4\n"
     ]
    }
   ],
   "source": [
    "# EXAMPLE: for Loops\n",
    "fruits = [\"apple\", \"banana\", \"orange\"]\n",
    "for fruit in fruits:\n",
    "    print(fruit)\n",
    "# while Loops :\n",
    "count = 0\n",
    "while count < 5:\n",
    "    print(\"Count:\", count)\n",
    "    count += 1"
   ]
  },
  {
   "cell_type": "code",
   "execution_count": null,
   "id": "3efbe889-a99a-48a2-8609-e592a12ec458",
   "metadata": {},
   "outputs": [],
   "source": []
  }
 ],
 "metadata": {
  "kernelspec": {
   "display_name": "Python 3 (ipykernel)",
   "language": "python",
   "name": "python3"
  },
  "language_info": {
   "codemirror_mode": {
    "name": "ipython",
    "version": 3
   },
   "file_extension": ".py",
   "mimetype": "text/x-python",
   "name": "python",
   "nbconvert_exporter": "python",
   "pygments_lexer": "ipython3",
   "version": "3.12.6"
  }
 },
 "nbformat": 4,
 "nbformat_minor": 5
}
